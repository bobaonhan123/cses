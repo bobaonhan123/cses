{
 "cells": [
  {
   "cell_type": "markdown",
   "id": "d44054b6",
   "metadata": {},
   "source": [
    "https://cses.fi/problemset/task/1068"
   ]
  },
  {
   "cell_type": "code",
   "execution_count": 2,
   "id": "71945526",
   "metadata": {},
   "outputs": [
    {
     "name": "stdout",
     "output_type": "stream",
     "text": [
      "3 10 5 16 8 4 2 1\n"
     ]
    }
   ],
   "source": [
    "n = int(input())\n",
    "\n",
    "while True:\n",
    "    if n==1:\n",
    "        print(1)\n",
    "        break\n",
    "    print(n,end=' ')\n",
    "    if n%2==0:\n",
    "        n //=2\n",
    "    else:\n",
    "        n=n*3+1\n"
   ]
  }
 ],
 "metadata": {
  "kernelspec": {
   "display_name": "Python 3",
   "language": "python",
   "name": "python3"
  },
  "language_info": {
   "codemirror_mode": {
    "name": "ipython",
    "version": 3
   },
   "file_extension": ".py",
   "mimetype": "text/x-python",
   "name": "python",
   "nbconvert_exporter": "python",
   "pygments_lexer": "ipython3",
   "version": "3.12.9"
  }
 },
 "nbformat": 4,
 "nbformat_minor": 5
}
